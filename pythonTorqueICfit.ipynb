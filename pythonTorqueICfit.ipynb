{
 "cells": [
  {
   "cell_type": "code",
   "execution_count": null,
   "id": "4bcea474",
   "metadata": {},
   "outputs": [
    {
     "name": "stdout",
     "output_type": "stream",
     "text": [
      "10\n"
     ]
    },
    {
     "name": "stderr",
     "output_type": "stream",
     "text": [
      "/Users/griffinbradford/Python Analysis Tools/pythonTorqueICfitting/torqueMeasurement.py:26: UserWarning: loadtxt: input contained no data: \"/Users/griffinbradford/Downloads/trq.txt\"\n",
      "  raw=np.loadtxt(filepath, delimiter='\\t',skiprows=num)\n"
     ]
    },
    {
     "ename": "IndexError",
     "evalue": "index 1 is out of bounds for axis 0 with size 0",
     "output_type": "error",
     "traceback": [
      "\u001b[31m---------------------------------------------------------------------------\u001b[39m",
      "\u001b[31mIndexError\u001b[39m                                Traceback (most recent call last)",
      "\u001b[36mCell\u001b[39m\u001b[36m \u001b[39m\u001b[32mIn[4]\u001b[39m\u001b[32m, line 5\u001b[39m\n\u001b[32m      1\u001b[39m get_ipython().run_line_magic(\u001b[33m'\u001b[39m\u001b[33mautoreload\u001b[39m\u001b[33m'\u001b[39m, \u001b[33m'\u001b[39m\u001b[33m2\u001b[39m\u001b[33m'\u001b[39m)\n\u001b[32m      3\u001b[39m \u001b[38;5;28;01mimport\u001b[39;00m\u001b[38;5;250m \u001b[39m\u001b[34;01mtorqueMeasurement\u001b[39;00m\n\u001b[32m----> \u001b[39m\u001b[32m5\u001b[39m torqueM = \u001b[43mtorqueMeasurement\u001b[49m\u001b[43m.\u001b[49m\u001b[43mTorqueMeasurement\u001b[49m\u001b[43m(\u001b[49m\u001b[43m)\u001b[49m\n",
      "\u001b[36mFile \u001b[39m\u001b[32m~/Python Analysis Tools/pythonTorqueICfitting/torqueMeasurement.py:27\u001b[39m, in \u001b[36mTorqueMeasurement.__init__\u001b[39m\u001b[34m(self)\u001b[39m\n\u001b[32m     25\u001b[39m             \u001b[38;5;28mprint\u001b[39m(num)\n\u001b[32m     26\u001b[39m raw=np.loadtxt(filepath, delimiter=\u001b[33m'\u001b[39m\u001b[38;5;130;01m\\t\u001b[39;00m\u001b[33m'\u001b[39m,skiprows=num)\n\u001b[32m---> \u001b[39m\u001b[32m27\u001b[39m \u001b[38;5;28mprint\u001b[39m(\u001b[43mraw\u001b[49m\u001b[43m[\u001b[49m\u001b[32;43m1\u001b[39;49m\u001b[43m]\u001b[49m)\n",
      "\u001b[31mIndexError\u001b[39m: index 1 is out of bounds for axis 0 with size 0"
     ]
    }
   ],
   "source": [
    "%load_ext autoreload\n",
    "%autoreload 2\n",
    "\n",
    "import torqueMeasurement\n",
    "\n",
    "torqueM = torqueMeasurement.TorqueMeasurement()\n"
   ]
  }
 ],
 "metadata": {
  "kernelspec": {
   "display_name": ".venv (3.13.7)",
   "language": "python",
   "name": "python3"
  },
  "language_info": {
   "codemirror_mode": {
    "name": "ipython",
    "version": 3
   },
   "file_extension": ".py",
   "mimetype": "text/x-python",
   "name": "python",
   "nbconvert_exporter": "python",
   "pygments_lexer": "ipython3",
   "version": "3.13.7"
  }
 },
 "nbformat": 4,
 "nbformat_minor": 5
}
