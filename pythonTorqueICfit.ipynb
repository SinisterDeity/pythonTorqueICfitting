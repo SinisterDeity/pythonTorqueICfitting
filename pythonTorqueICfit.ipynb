{
 "cells": [
  {
   "cell_type": "code",
   "execution_count": 28,
   "id": "4bcea474",
   "metadata": {},
   "outputs": [
    {
     "name": "stdout",
     "output_type": "stream",
     "text": [
      "The autoreload extension is already loaded. To reload it, use:\n",
      "  %reload_ext autoreload\n"
     ]
    }
   ],
   "source": [
    "%load_ext autoreload\n",
    "%autoreload 2\n",
    "%matplotlib qt\n",
    "import matplotlib.pyplot as plt\n",
    "\n",
    "import torqueMeasurement\n",
    "\n",
    "torqueM = torqueMeasurement.TorqueMeasurement()\n",
    "icAngle = torqueM.calcIc()\n",
    "\n",
    "plt.figure()\n",
    "plt.rcParams.update({'font.size': 25})\n",
    "plt.xlabel(r\"Angle $\\left[°\\right]$ $(B\\parallel{}ab = 0°)$\")\n",
    "plt.ylabel(r\"$I_{c}$ $[A]$\")\n",
    "plt.title(r\"Calculated $I_{c}$ vs Angle from Torque Magnetometry\")\n",
    "plt.xlim([-30, 30])\n",
    "plt.gca().tick_params(labelsize=25)\n",
    "plt.plot(icAngle['angle'], icAngle['ic'], color='k', linewidth=4)\n",
    "plt.show()\n"
   ]
  }
 ],
 "metadata": {
  "kernelspec": {
   "display_name": ".venv (3.13.7)",
   "language": "python",
   "name": "python3"
  },
  "language_info": {
   "codemirror_mode": {
    "name": "ipython",
    "version": 3
   },
   "file_extension": ".py",
   "mimetype": "text/x-python",
   "name": "python",
   "nbconvert_exporter": "python",
   "pygments_lexer": "ipython3",
   "version": "3.13.7"
  }
 },
 "nbformat": 4,
 "nbformat_minor": 5
}
