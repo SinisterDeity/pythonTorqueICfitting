{
 "cells": [
  {
   "cell_type": "code",
   "execution_count": null,
   "id": "4bcea474",
   "metadata": {},
   "outputs": [
    {
     "name": "stdout",
     "output_type": "stream",
     "text": [
      "The autoreload extension is already loaded. To reload it, use:\n",
      "  %reload_ext autoreload\n",
      "[257.36400476   3.35575021 105.59887739  15.          -1.57079633\n",
      "  -0.35973038]\n"
     ]
    }
   ],
   "source": [
    "%load_ext autoreload\n",
    "%autoreload 2\n",
    "%matplotlib qt\n",
    "\n",
    "import torqueMeasurement\n",
    "from torqueMeasurement import plt\n",
    "\n",
    "print(torqueMeasurement.TorqueMeasurement().icAngleFit(1))\n",
    "fig = plt.gcf()\n",
    "fig\n"
   ]
  }
 ],
 "metadata": {
  "kernelspec": {
   "display_name": ".venv (3.13.7)",
   "language": "python",
   "name": "python3"
  },
  "language_info": {
   "codemirror_mode": {
    "name": "ipython",
    "version": 3
   },
   "file_extension": ".py",
   "mimetype": "text/x-python",
   "name": "python",
   "nbconvert_exporter": "python",
   "pygments_lexer": "ipython3",
   "version": "3.13.7"
  }
 },
 "nbformat": 4,
 "nbformat_minor": 5
}
